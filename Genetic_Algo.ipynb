{
  "cells": [
    {
      "cell_type": "code",
      "execution_count": 18,
      "metadata": {
        "id": "i0pQnfpYwg7n"
      },
      "outputs": [],
      "source": [
        "import pandas as pd\n",
        "import numpy as np\n",
        "import random\n",
        "from tensorflow.keras.layers import Conv2D, Activation, GlobalAveragePooling2D, Dense\n",
        "from tensorflow.keras import Sequential\n",
        "import tensorflow as tf\n",
        "import matplotlib.pyplot as plt"
      ]
    },
    {
      "cell_type": "code",
      "execution_count": 2,
      "metadata": {
        "id": "hx08Pfkvwg7u"
      },
      "outputs": [],
      "source": [
        "from tensorflow.keras.datasets import fashion_mnist\n",
        "(x_train, y_train), (x_test, y_test) = fashion_mnist.load_data()\n",
        "x_train = tf.image.per_image_standardization(x_train)\n",
        "x_test = tf.image.per_image_standardization(x_test)\n",
        "IMAGE_SIZE = 28\n",
        "x_test = np.array(x_test).reshape(-1,IMAGE_SIZE,IMAGE_SIZE,1)\n",
        "x_train = np.array(x_train).reshape(-1,IMAGE_SIZE,IMAGE_SIZE,1)"
      ]
    },
    {
      "cell_type": "code",
      "execution_count": 3,
      "metadata": {
        "colab": {
          "base_uri": "https://localhost:8080/",
          "height": 422
        },
        "id": "XEFliMfnwg7w",
        "outputId": "9b8513ea-6285-40d5-bb04-8030e512f0b2"
      },
      "outputs": [
        {
          "data": {
            "text/html": [
              "<div>\n",
              "<style scoped>\n",
              "    .dataframe tbody tr th:only-of-type {\n",
              "        vertical-align: middle;\n",
              "    }\n",
              "\n",
              "    .dataframe tbody tr th {\n",
              "        vertical-align: top;\n",
              "    }\n",
              "\n",
              "    .dataframe thead th {\n",
              "        text-align: right;\n",
              "    }\n",
              "</style>\n",
              "<table border=\"1\" class=\"dataframe\">\n",
              "  <thead>\n",
              "    <tr style=\"text-align: right;\">\n",
              "      <th></th>\n",
              "      <th>Unnamed: 0</th>\n",
              "      <th>Model No.</th>\n",
              "      <th>genome</th>\n",
              "      <th>Parameters</th>\n",
              "      <th>Training Accuracy</th>\n",
              "      <th>Validation Accuracy</th>\n",
              "      <th>Test Accuracy</th>\n",
              "    </tr>\n",
              "  </thead>\n",
              "  <tbody>\n",
              "    <tr>\n",
              "      <th>0</th>\n",
              "      <td>0</td>\n",
              "      <td>1</td>\n",
              "      <td>RC 52 2 sigmoid; NC 28 2 swish ;RC 52 2 sigmoi...</td>\n",
              "      <td>20346.0</td>\n",
              "      <td>0.825542</td>\n",
              "      <td>0.832833</td>\n",
              "      <td>0.8280</td>\n",
              "    </tr>\n",
              "    <tr>\n",
              "      <th>1</th>\n",
              "      <td>1</td>\n",
              "      <td>2</td>\n",
              "      <td>RC 16 2 tanh; NC 96 2 sigmoid ;RC 16 2 tanh ;N...</td>\n",
              "      <td>25578.0</td>\n",
              "      <td>0.787500</td>\n",
              "      <td>0.801083</td>\n",
              "      <td>0.7925</td>\n",
              "    </tr>\n",
              "    <tr>\n",
              "      <th>2</th>\n",
              "      <td>2</td>\n",
              "      <td>3</td>\n",
              "      <td>RC 76 2 sigmoid; NC 16 2 tanh ;RC 76 2 sigmoid...</td>\n",
              "      <td>16818.0</td>\n",
              "      <td>0.810812</td>\n",
              "      <td>0.814833</td>\n",
              "      <td>0.7903</td>\n",
              "    </tr>\n",
              "    <tr>\n",
              "      <th>3</th>\n",
              "      <td>3</td>\n",
              "      <td>4</td>\n",
              "      <td>RC 96 2 tanh; NC 72 2 swish ;RC 96 2 tanh ;NC ...</td>\n",
              "      <td>88986.0</td>\n",
              "      <td>0.880833</td>\n",
              "      <td>0.871833</td>\n",
              "      <td>0.8572</td>\n",
              "    </tr>\n",
              "    <tr>\n",
              "      <th>4</th>\n",
              "      <td>4</td>\n",
              "      <td>5</td>\n",
              "      <td>RC 24 2 gelu; NC 100 2 sigmoid ;RC 24 2 gelu ;...</td>\n",
              "      <td>36258.0</td>\n",
              "      <td>0.832563</td>\n",
              "      <td>0.831250</td>\n",
              "      <td>0.8309</td>\n",
              "    </tr>\n",
              "    <tr>\n",
              "      <th>...</th>\n",
              "      <td>...</td>\n",
              "      <td>...</td>\n",
              "      <td>...</td>\n",
              "      <td>...</td>\n",
              "      <td>...</td>\n",
              "      <td>...</td>\n",
              "      <td>...</td>\n",
              "    </tr>\n",
              "    <tr>\n",
              "      <th>95</th>\n",
              "      <td>95</td>\n",
              "      <td>96</td>\n",
              "      <td>RC 112 2 relu; NC 56 2 gelu ;RC 112 2 relu ;NC...</td>\n",
              "      <td>80346.0</td>\n",
              "      <td>0.889125</td>\n",
              "      <td>0.882333</td>\n",
              "      <td>0.8731</td>\n",
              "    </tr>\n",
              "    <tr>\n",
              "      <th>96</th>\n",
              "      <td>96</td>\n",
              "      <td>97</td>\n",
              "      <td>RC 56 2 gelu; NC 84 2 swish ;RC 56 2 gelu ;NC ...</td>\n",
              "      <td>63042.0</td>\n",
              "      <td>0.900937</td>\n",
              "      <td>0.893250</td>\n",
              "      <td>0.8848</td>\n",
              "    </tr>\n",
              "    <tr>\n",
              "      <th>97</th>\n",
              "      <td>97</td>\n",
              "      <td>98</td>\n",
              "      <td>RC 72 2 relu; NC 56 2 gelu ;RC 72 2 relu ;NC 5...</td>\n",
              "      <td>53226.0</td>\n",
              "      <td>0.892458</td>\n",
              "      <td>0.892000</td>\n",
              "      <td>0.8856</td>\n",
              "    </tr>\n",
              "    <tr>\n",
              "      <th>98</th>\n",
              "      <td>98</td>\n",
              "      <td>99</td>\n",
              "      <td>RC 16 2 gelu; NC 64 2 sigmoid ;RC 16 2 gelu ;N...</td>\n",
              "      <td>17322.0</td>\n",
              "      <td>0.800104</td>\n",
              "      <td>0.806583</td>\n",
              "      <td>0.8029</td>\n",
              "    </tr>\n",
              "    <tr>\n",
              "      <th>99</th>\n",
              "      <td>99</td>\n",
              "      <td>100</td>\n",
              "      <td>RC 120 2 gelu; NC 96 2 gelu ;RC 120 2 gelu ;NC...</td>\n",
              "      <td>146010.0</td>\n",
              "      <td>0.915000</td>\n",
              "      <td>0.899000</td>\n",
              "      <td>0.8905</td>\n",
              "    </tr>\n",
              "  </tbody>\n",
              "</table>\n",
              "<p>100 rows × 7 columns</p>\n",
              "</div>"
            ],
            "text/plain": [
              "    Unnamed: 0  Model No.                                             genome  \\\n",
              "0            0          1  RC 52 2 sigmoid; NC 28 2 swish ;RC 52 2 sigmoi...   \n",
              "1            1          2  RC 16 2 tanh; NC 96 2 sigmoid ;RC 16 2 tanh ;N...   \n",
              "2            2          3  RC 76 2 sigmoid; NC 16 2 tanh ;RC 76 2 sigmoid...   \n",
              "3            3          4  RC 96 2 tanh; NC 72 2 swish ;RC 96 2 tanh ;NC ...   \n",
              "4            4          5  RC 24 2 gelu; NC 100 2 sigmoid ;RC 24 2 gelu ;...   \n",
              "..         ...        ...                                                ...   \n",
              "95          95         96  RC 112 2 relu; NC 56 2 gelu ;RC 112 2 relu ;NC...   \n",
              "96          96         97  RC 56 2 gelu; NC 84 2 swish ;RC 56 2 gelu ;NC ...   \n",
              "97          97         98  RC 72 2 relu; NC 56 2 gelu ;RC 72 2 relu ;NC 5...   \n",
              "98          98         99  RC 16 2 gelu; NC 64 2 sigmoid ;RC 16 2 gelu ;N...   \n",
              "99          99        100  RC 120 2 gelu; NC 96 2 gelu ;RC 120 2 gelu ;NC...   \n",
              "\n",
              "    Parameters  Training Accuracy  Validation Accuracy  Test Accuracy  \n",
              "0      20346.0           0.825542             0.832833         0.8280  \n",
              "1      25578.0           0.787500             0.801083         0.7925  \n",
              "2      16818.0           0.810812             0.814833         0.7903  \n",
              "3      88986.0           0.880833             0.871833         0.8572  \n",
              "4      36258.0           0.832563             0.831250         0.8309  \n",
              "..         ...                ...                  ...            ...  \n",
              "95     80346.0           0.889125             0.882333         0.8731  \n",
              "96     63042.0           0.900937             0.893250         0.8848  \n",
              "97     53226.0           0.892458             0.892000         0.8856  \n",
              "98     17322.0           0.800104             0.806583         0.8029  \n",
              "99    146010.0           0.915000             0.899000         0.8905  \n",
              "\n",
              "[100 rows x 7 columns]"
            ]
          },
          "execution_count": 3,
          "metadata": {},
          "output_type": "execute_result"
        }
      ],
      "source": [
        "pool_NN = pd.read_csv(\"genome_Seq_CNN.csv\")\n",
        "pool_NN"
      ]
    },
    {
      "cell_type": "code",
      "execution_count": 4,
      "metadata": {
        "id": "kzp4HvOPwg7y"
      },
      "outputs": [],
      "source": [
        "def get_max_parameter():\n",
        "    max_parm = max(pool_NN.iloc[:,3])\n",
        "    return max_parm"
      ]
    },
    {
      "cell_type": "markdown",
      "metadata": {
        "id": "93rJEkZjwg7z"
      },
      "source": [
        "We will now try to comeup with a fitness function which shows max acc with less no of parameter"
      ]
    },
    {
      "cell_type": "code",
      "execution_count": 5,
      "metadata": {
        "id": "MKKzVoHOwg73"
      },
      "outputs": [],
      "source": [
        "no_of_best_genome = 5"
      ]
    },
    {
      "cell_type": "code",
      "execution_count": 6,
      "metadata": {
        "id": "iLLsoxA8wg74"
      },
      "outputs": [],
      "source": [
        "def fitness_func(no_param,test_acc):\n",
        "    max_parm = get_max_parameter()\n",
        "    return test_acc - (no_param/max_parm)"
      ]
    },
    {
      "cell_type": "code",
      "execution_count": 7,
      "metadata": {},
      "outputs": [],
      "source": [
        "def Nmaxelements(list1, N):\n",
        "    final_list = []\n",
        "    index = []\n",
        "  \n",
        "    for i in range(0, N): \n",
        "        max1 = 0\n",
        "        ind = 0\n",
        "          \n",
        "        for j in range(len(list1)):     \n",
        "            if list1[j] > max1:\n",
        "                max1 = list1[j]\n",
        "                ind = j\n",
        "                \n",
        "                  \n",
        "        list1.remove(max1)\n",
        "        final_list.append(max1)\n",
        "        index.append(ind)\n",
        "          \n",
        "    return final_list,index"
      ]
    },
    {
      "cell_type": "code",
      "execution_count": 8,
      "metadata": {},
      "outputs": [
        {
          "data": {
            "text/plain": [
              "'RC 124 2 tanh; NC 112 2 tanh ;RC 124 2 tanh ;NC 112 2 tanh ;FL sigmoid'"
            ]
          },
          "execution_count": 8,
          "metadata": {},
          "output_type": "execute_result"
        }
      ],
      "source": [
        "pool_NN.iloc[7,2]\n"
      ]
    },
    {
      "cell_type": "code",
      "execution_count": 9,
      "metadata": {
        "id": "61aqaVkbwg8B"
      },
      "outputs": [],
      "source": [
        "def Decode_Genome(genome):\n",
        "    RC_layer1,NC_layer2,_,_,FL_layer5 = genome.split(';')\n",
        "    #print(RC_layer1,\"\\n\",NC_layer2,\"\\n\",FL_layer5)\n",
        "        \n",
        "    #Decoding RC Layer\n",
        "    #print(RC_layer1)\n",
        "    temp_RC_f = RC_layer1.split(\"RC\",1)[1]\n",
        "    temp_RC_acti = RC_layer1.split(\" 2 \",1)[1]\n",
        "\n",
        "    temp_RC_f = temp_RC_f.split(\" 2 \",1)[0]\n",
        "    temp_RC_f = int(temp_RC_f)\n",
        "    temp_RC_acti = str(temp_RC_acti)\n",
        "\n",
        "    #Decoding NC layer\n",
        "    temp_NC_f = NC_layer2.split(\"NC\",1)[1]\n",
        "    temp_NC_acti = NC_layer2.split(\" 2 \",1)[1]\n",
        "\n",
        "    temp_NC_f = temp_NC_f.split(\" 2 \",1)[0]\n",
        "    temp_NC_f = int(temp_NC_f)\n",
        "    temp_NC_acti = str(temp_NC_acti)\n",
        "\n",
        "    #Decoding for FL layer\n",
        "    temp_FL_acti = FL_layer5.split('FL',1)[1]\n",
        "    temp_FL_acti = str(temp_FL_acti)\n",
        "\n",
        "    return temp_RC_f,temp_RC_acti,temp_NC_f,temp_NC_acti,temp_FL_acti\n"
      ]
    },
    {
      "cell_type": "code",
      "execution_count": 10,
      "metadata": {
        "id": "PAHa5Au3wg8C"
      },
      "outputs": [],
      "source": [
        "def CrossOver(index_of_genomes):\n",
        "    genome_Seq = []\n",
        "    for i in range(no_of_best_genome):\n",
        "        seq = pool_NN.iloc[i,2]\n",
        "        genome_Seq.append(seq)  # Got the genome Seq of best performing CNN as per our fitness function\n",
        "    #print(genome_Seq)\n",
        "    # Get the RC & NC filters and various activation functions\n",
        "    RC_filters = []\n",
        "    NC_filters = []\n",
        "    RC_activation = []\n",
        "    NC_activation  = []\n",
        "    FL_activation = []\n",
        "    for genome in genome_Seq:\n",
        "        RC_layer1,NC_layer2,_,_,FL_layer5 = genome.split(';')\n",
        "        #print(RC_layer1,\"\\n\",NC_layer2,\"\\n\",FL_layer5)\n",
        "        \n",
        "        #Decoding RC Layer\n",
        "        #print(RC_layer1)\n",
        "        temp_RC_f = RC_layer1.split(\"RC\",1)[1]\n",
        "        temp_RC_acti = RC_layer1.split(\" 2 \",1)[1]\n",
        "        #print(temp_RC_acti)\n",
        "        temp_RC_f = temp_RC_f.split(\" 2 \",1)[0]\n",
        "        RC_filters.append(int(temp_RC_f))\n",
        "        RC_activation.append(str(temp_RC_acti))\n",
        "\n",
        "        #Decoding NC layer\n",
        "        temp_NC_f = NC_layer2.split(\"NC\",1)[1]\n",
        "        temp_NC_acti = NC_layer2.split(\" 2 \",1)[1]\n",
        "        #print(temp_RC_acti)\n",
        "        temp_NC_f = temp_NC_f.split(\" 2 \",1)[0]\n",
        "        NC_filters.append(int(temp_NC_f))\n",
        "        NC_activation.append(str(temp_NC_acti))\n",
        "\n",
        "        #Decoding for FL layer\n",
        "        temp_FL_acti = FL_layer5.split('FL',1)[1]\n",
        "        FL_activation.append(temp_FL_acti)\n",
        "\n",
        "    '''print(RC_filters)\n",
        "    print(RC_activation)\n",
        "    print(NC_filters)\n",
        "    print(NC_activation)\n",
        "    print(FL_activation)'''\n",
        "\n",
        "    RC_filters = np.array(RC_filters)\n",
        "    RC_activation = np.array(RC_activation)\n",
        "    NC_filters = np.array(NC_filters)\n",
        "    NC_activation = np.array(NC_activation)\n",
        "    FL_activation = np.array(FL_activation)\n",
        "\n",
        "    RC_filters = np.unique(RC_filters)\n",
        "    RC_activation = np.unique(RC_activation)\n",
        "    NC_filters = np.unique(NC_filters)\n",
        "    NC_activation = np.unique(NC_activation)\n",
        "    FL_activation = np.unique(FL_activation)\n",
        "\n",
        "    RC_filters = list(RC_filters)\n",
        "    RC_activation = list(RC_activation)\n",
        "    NC_filters = list(NC_filters)\n",
        "    NC_activation = list(NC_activation)\n",
        "    FL_activation = list(FL_activation)\n",
        "    '''print(RC_filters)\n",
        "    print(RC_activation)\n",
        "    print(NC_filters)\n",
        "    print(NC_activation)\n",
        "    print(FL_activation)'''\n",
        "\n",
        "    #Using Random Crossover to randomly create 5 genome Seq. using best performing variables\n",
        "    crossed_genome = []\n",
        "    for i in range(no_of_best_genome):\n",
        "        RC_f = random.choice(RC_filters)\n",
        "        NC_f = random.choice(NC_filters)\n",
        "        RC_act = random.choice(RC_activation)\n",
        "        NC_act = random.choice(NC_activation)\n",
        "        FL_act = random.choice(FL_activation)\n",
        "\n",
        "        genome = \"RC \"+str(RC_f)+\" \"+str(2)+\" \"+str(RC_act)+\"; \"+\"NC \"+str(NC_f)+\" \"+str(2)+\" \"+str(NC_act)+\" ;\"+\"RC \"+str(RC_f)+\" \"+str(2)+\" \"+str(RC_act)+\" ;\"+\"NC \"+str(NC_f)+\" \"+str(2)+\" \"+str(NC_act)+\" ;\"+\"FL\"+\" \"+str(FL_act)\n",
        "        crossed_genome.append(genome)\n",
        "    return crossed_genome\n",
        "\n",
        "    \n",
        " \n",
        "\n",
        "    \n",
        "    "
      ]
    },
    {
      "cell_type": "code",
      "execution_count": 11,
      "metadata": {
        "id": "YbnoAVV_wg8G"
      },
      "outputs": [],
      "source": [
        "def Mutation(genome_Seq):\n",
        "    \n",
        "    mutated_genome = []\n",
        "\n",
        "    for genome in genome_Seq:\n",
        "        RC_f = random.choice([i for i in range(4,128,4)])\n",
        "        NC_f = random.choice([i for i in range(4,128,4)])\n",
        "        RC_act = random.choice(['relu','sigmoid','tanh','swish','gelu'])\n",
        "        NC_act = random.choice(['relu','sigmoid','tanh','swish','gelu'])\n",
        "        FL_act = random.choice(['relu','sigmoid','tanh','swish','gelu'])\n",
        "        parametrs = [RC_f,NC_f,RC_act,NC_act,FL_act]\n",
        "        mutation = random.sample(parametrs,1)\n",
        "        mutation = mutation[0]\n",
        "        \n",
        "        if RC_f==mutation:      # Mutation in RC filter\n",
        "            #print(RC_f,\" \",mutation)\n",
        "            RC_layer,NC_layer,_,_,FL_layer = genome.split(';')\n",
        "            temp_RC_f = RC_layer.split(\"RC\",1)[1]\n",
        "            temp_RC_acti = RC_layer.split(\" 2 \",1)[1]\n",
        "            temp_RC_f = temp_RC_f.split(\" 2 \",1)[0]\n",
        "            temp_RC_f = mutation\n",
        "            genome = \"RC \"+str(temp_RC_f)+\" \"+str(2)+\" \"+str(temp_RC_acti)+\"; \"+str(NC_layer)+\" ;\"+\"RC \"+str(temp_RC_f)+\" \"+str(2)+\" \"+str(temp_RC_acti)+\" ;\"+str(NC_layer)+\" ;\"+str(FL_layer)\n",
        "            mutated_genome.append(genome)\n",
        "            \n",
        "        elif NC_f==mutation:        # Mutation in NC Filter\n",
        "            #print(NC_f,\" \",mutation)\n",
        "            RC_layer,NC_layer,_,_,FL_layer = genome.split(';')\n",
        "            temp_NC_f = NC_layer.split(\"NC\",1)[1]\n",
        "            temp_NC_acti = RC_layer.split(\" 2 \",1)[1]\n",
        "            temp_NC_f = temp_NC_f.split(\" 2 \",1)[0]\n",
        "            temp_NC_f = mutation\n",
        "            genome = str(RC_layer)+\"; \"+\"NC \"+str(temp_NC_f)+\" \"+str(2)+\" \"+str(temp_NC_acti)+\" ;\"+str(RC_layer)+\" ;\"+\"NC \"+str(temp_NC_f)+\" \"+str(2)+\" \"+str(temp_NC_acti)+\" ;\"+str(FL_layer)\n",
        "            mutated_genome.append(genome)\n",
        "\n",
        "        elif RC_act==mutation:      # Muatation in RC Activation Function\n",
        "            #print(RC_act,\" \",mutation)\n",
        "            RC_layer,NC_layer,_,_,FL_layer = genome.split(';')\n",
        "            temp_RC_f = RC_layer.split(\"RC\",1)[1]\n",
        "            temp_RC_acti = RC_layer.split(\" 2 \",1)[1]\n",
        "            temp_RC_f = temp_RC_f.split(\" 2 \",1)[0]\n",
        "            temp_RC_acti = str(mutation)\n",
        "            genome = \"RC \"+str(temp_RC_f)+\" \"+str(2)+\" \"+str(temp_RC_acti)+\"; \"+str(NC_layer)+\" ;\"+\"RC \"+str(temp_RC_f)+\" \"+str(2)+\" \"+str(temp_RC_acti)+\" ;\"+str(NC_layer)+\" ;\"+str(FL_layer)\n",
        "            mutated_genome.append(genome)\n",
        "        \n",
        "        elif NC_act==mutation:      # Muatation in NC Activation Function\n",
        "            #print(NC_act,\" \",mutation)\n",
        "            RC_layer,NC_layer,_,_,FL_layer = genome.split(';')\n",
        "            temp_NC_f = NC_layer.split(\"NC\",1)[1]\n",
        "            temp_NC_acti = RC_layer.split(\" 2 \",1)[1]\n",
        "            temp_NC_f = temp_NC_f.split(\" 2 \",1)[0]\n",
        "            temp_NC_acti = str(mutation)\n",
        "            genome = str(RC_layer)+\"; \"+\"NC \"+str(temp_NC_f)+\" \"+str(2)+\" \"+str(temp_NC_acti)+\" ;\"+str(RC_layer)+\" ;\"+\"NC \"+str(temp_NC_f)+\" \"+str(2)+\" \"+str(temp_NC_acti)+\" ;\"+str(FL_layer)\n",
        "            mutated_genome.append(genome)\n",
        "        \n",
        "        elif FL_act==mutation:      # Muataion in FL Activation Function\n",
        "            #print(FL_act,\" \",mutation)\n",
        "            RC_layer,NC_layer,_,_,FL_layer = genome.split(';')\n",
        "            temp_FL_acti = FL_layer.split('FL',1)[1]\n",
        "            temp_FL_acti = mutation\n",
        "            genome = str(RC_layer)+\"; \"+str(NC_layer)+\" ;\"+str(RC_layer)+\" ;\"+str(NC_layer)+\" ;\"+\"FL\"+\" \"+str(temp_FL_acti)\n",
        "            mutated_genome.append(genome)\n",
        "    return mutated_genome"
      ]
    },
    {
      "cell_type": "markdown",
      "metadata": {
        "id": "IyQ4jSMEwg8I"
      },
      "source": [
        "Till Here we have got our Top 5 models and we have also performed Crossover and Muatation on the same."
      ]
    },
    {
      "cell_type": "code",
      "execution_count": 12,
      "metadata": {
        "id": "b9Ttvr8wwg8I"
      },
      "outputs": [],
      "source": [
        "def Test_genome_Efficacy(RC_f,RC_acti,NC_f,NC_acti,FL_acti):\n",
        "    \n",
        "    RC_acti = RC_acti.strip()\n",
        "    NC_acti = NC_acti.strip()\n",
        "    FL_acti = FL_acti.strip()\n",
        "    print(RC_acti,NC_acti,FL_acti)\n",
        "\n",
        "    model = Sequential()\n",
        "    model.add(Conv2D(RC_f,kernel_size=(2,2) ,padding='valid',strides=2,input_shape=x_train.shape[1:])) #Reduction Layer\n",
        "    model.add(Activation(activation = str(RC_acti)))\n",
        "\n",
        "    model.add(Conv2D(NC_f,(2,2),padding='same')) \n",
        "    model.add(Activation(activation = str(NC_acti)))\n",
        "\n",
        "    model.add(Conv2D(RC_f,kernel_size=(2,2) ,padding='valid',strides=2))  #Reduction Layer\n",
        "    model.add(Activation(str(RC_acti)))\n",
        "\n",
        "    model.add(Conv2D(NC_f,(2,2),padding='same')) \n",
        "    model.add(Activation(activation = str(NC_acti)))\n",
        "\n",
        "    model.add(GlobalAveragePooling2D())\n",
        "    model.add(Dense(64))\n",
        "    model.add(Activation(activation = str(FL_acti)))\n",
        "    model.add(Dense(10))\n",
        "    model.add(Activation(\"softmax\"))\n",
        "\n",
        "    trainableParams = np.sum([np.prod(v.get_shape()) for v in model.trainable_weights])\n",
        "\n",
        "    model.compile(loss=\"sparse_categorical_crossentropy\",optimizer=\"adam\",metrics=['accuracy'])\n",
        "    history = model.fit(x = x_train,y=y_train,epochs=8,validation_split=0.2,verbose = 0)\n",
        "    train_acc = history.history['accuracy']\n",
        "    val_acc = history.history['val_accuracy']\n",
        "    results = model.evaluate(x=x_test,y=y_test,verbose=0)\n",
        "    test_acc = results[1]\n",
        "\n",
        "    return trainableParams,max(train_acc),max(val_acc),test_acc\n",
        "\n"
      ]
    },
    {
      "cell_type": "code",
      "execution_count": 13,
      "metadata": {
        "id": "H4ODoW-9wg8J"
      },
      "outputs": [],
      "source": [
        "def AnaysleMutation(mutated_genome,current_model_count):\n",
        "    fitness_score = []\n",
        "    new_genomes = []\n",
        "    for genome in mutated_genome:\n",
        "        temp_RC_f,temp_RC_acti,temp_NC_f,temp_NC_acti,temp_FL_acti = Decode_Genome(genome=genome)\n",
        "        print(temp_RC_f,temp_RC_acti,temp_NC_f,temp_NC_acti,temp_FL_acti)\n",
        "        print(\"\\n\")\n",
        "        trainableParams,train_acc,val_acc,test_acc = Test_genome_Efficacy(temp_RC_f,temp_RC_acti,temp_NC_f,temp_NC_acti,temp_FL_acti)\n",
        "        # Updating my Model Population\n",
        "        candidate = {\n",
        "        \"Model No.\":current_model_count + 1,\n",
        "        \"genome\":genome,\n",
        "        \"Parameters\":trainableParams,\n",
        "        \"Training Accuracy\":train_acc,\n",
        "        \"Validation Accuracy\":val_acc,\n",
        "        \"Test Accuracy\":test_acc\n",
        "\n",
        "        }\n",
        "        current_model_count+=1\n",
        "        new_genomes.append(candidate)\n",
        "        score = fitness_func(no_param=trainableParams,test_acc=test_acc)\n",
        "        fitness_score.append(score)\n",
        "    return fitness_score,new_genomes\n"
      ]
    },
    {
      "cell_type": "code",
      "execution_count": 14,
      "metadata": {
        "colab": {
          "base_uri": "https://localhost:8080/"
        },
        "id": "UAJm8BBHwg8L",
        "outputId": "4a6a7aa1-9b6f-4cf1-afb1-ca49a2eeb889"
      },
      "outputs": [
        {
          "name": "stdout",
          "output_type": "stream",
          "text": [
            "Working on  100  genomes\n",
            "[0.7944491902117745, 0.7885575138244102, 0.7805642348522407, 0.7717441867805579, 0.7630868616142761]\n",
            "[91, 26, 75, 87, 71]\n",
            "24 gelu 96 tanh     relu\n",
            "\n",
            "\n",
            "gelu tanh relu\n",
            "24 tanh 100 gelu    tanh\n",
            "\n",
            "\n",
            "tanh gelu tanh\n",
            "76 tanh 100 sigmoid     sigmoid\n",
            "\n",
            "\n",
            "tanh sigmoid sigmoid\n",
            "96 tanh 72 relu    tanh\n",
            "\n",
            "\n",
            "tanh relu tanh\n",
            "28 sigmoid 96 swish      tanh\n",
            "\n",
            "\n",
            "sigmoid swish tanh\n",
            "Retrying!!!     Best Score after muatation :-  0.6666087716820912    Best score  :-  0.7944491902117745\n",
            "Working on  105  genomes\n",
            "[0.7944491902117745, 0.7885575138244102, 0.7805642348522407, 0.7717441867805579, 0.7630868616142761]\n",
            "[91, 26, 75, 87, 71]\n",
            "24 tanh 100 tanh      sigmoid\n",
            "\n",
            "\n",
            "tanh tanh sigmoid\n",
            "24 tanh 16 sigmoid     swish\n",
            "\n",
            "\n",
            "tanh sigmoid swish\n",
            "96 tanh 56 tanh    sigmoid\n",
            "\n",
            "\n",
            "tanh tanh sigmoid\n",
            "76 swish 16 sigmoid      sigmoid\n",
            "\n",
            "\n",
            "swish sigmoid sigmoid\n",
            "52 gelu 8 gelu    relu\n",
            "\n",
            "\n",
            "gelu gelu relu\n"
          ]
        }
      ],
      "source": [
        "count = 0\n",
        "while(1):\n",
        "  print(\"Working on \",len(pool_NN),\" genomes\")\n",
        "  all_score = []\n",
        "  for i in range(len(pool_NN)):\n",
        "    param = pool_NN.iloc[i,3]\n",
        "    test_acc = pool_NN.iloc[i,6]\n",
        "    score = fitness_func(no_param=param,test_acc=test_acc)\n",
        "    all_score.append(score)\n",
        "  best_scores,best_performing_genome_index = Nmaxelements(all_score,N=no_of_best_genome)\n",
        "  print(best_scores)\n",
        "  best_score = max(best_scores)\n",
        "  print(best_performing_genome_index)\n",
        "\n",
        "  \n",
        "  \n",
        "  crossed_genome = CrossOver(best_performing_genome_index)\n",
        "  mutated_genome = Mutation(crossed_genome)\n",
        "  fitness_score_muatation,mutated_genomes = AnaysleMutation(mutated_genome=mutated_genome,current_model_count = pool_NN.iloc[-1,1])\n",
        "  pool_NN = pool_NN.append(other=mutated_genomes)\n",
        "  best_score_mutation = max(fitness_score_muatation)\n",
        "  if count==50:\n",
        "    index = best_performing_genome_index[0]\n",
        "    best_genome = pool_NN.iloc[index,2]\n",
        "  if abs(best_score_mutation - best_score)<=0.01:\n",
        "    index = fitness_score_muatation.index(best_score_mutation)\n",
        "    best_genome = mutated_genome[index]\n",
        "    break\n",
        "  print(\"Retrying!!!\",\"    Best Score after muatation :- \",best_score_mutation,\"   Best score  :- \",best_score)\n",
        "  count+=1\n",
        "\n"
      ]
    },
    {
      "cell_type": "code",
      "execution_count": 15,
      "metadata": {
        "id": "tbF37owHXl84"
      },
      "outputs": [
        {
          "name": "stdout",
          "output_type": "stream",
          "text": [
            "RC 52 2 gelu; NC 8 2 gelu ;RC 52 2 gelu ;NC 8 2 gelu ;FL  relu\n"
          ]
        }
      ],
      "source": [
        "print(best_genome)"
      ]
    },
    {
      "cell_type": "code",
      "execution_count": 17,
      "metadata": {},
      "outputs": [
        {
          "name": "stdout",
          "output_type": "stream",
          "text": [
            "52 gelu 8 gelu    relu\n"
          ]
        }
      ],
      "source": []
    },
    {
      "cell_type": "code",
      "execution_count": 21,
      "metadata": {},
      "outputs": [],
      "source": [
        "def Inference(best_RC_f,best_RC_acti,best_NC_f,best_NC_acti,best_FL_acti):\n",
        "    best_RC_acti = best_RC_acti.strip()\n",
        "    best_NC_acti = best_NC_acti.strip()\n",
        "    best_FL_acti = best_FL_acti.strip()\n",
        "\n",
        "    model = Sequential()\n",
        "    model.add(Conv2D(best_RC_f,kernel_size=(2,2) ,padding='valid',strides=2,input_shape=x_train.shape[1:])) #Reduction Layer\n",
        "    model.add(Activation(activation = str(best_RC_acti)))\n",
        "\n",
        "    model.add(Conv2D(best_NC_f,(2,2),padding='same')) \n",
        "    model.add(Activation(activation = str(best_NC_acti)))\n",
        "\n",
        "    model.add(Conv2D(best_RC_f,kernel_size=(2,2) ,padding='valid',strides=2))  #Reduction Layer\n",
        "    model.add(Activation(str(best_RC_acti)))\n",
        "\n",
        "    model.add(Conv2D(best_NC_f,(2,2),padding='same')) \n",
        "    model.add(Activation(activation = str(best_NC_acti)))\n",
        "\n",
        "    model.add(GlobalAveragePooling2D())\n",
        "    model.add(Dense(64))\n",
        "    model.add(Activation(activation = str(best_FL_acti)))\n",
        "    model.add(Dense(10))\n",
        "    model.add(Activation(\"softmax\"))\n",
        "\n",
        "    model.compile(loss=\"sparse_categorical_crossentropy\",optimizer=\"adam\",metrics=['accuracy'])\n",
        "    history = model.fit(x = x_train,y=y_train,epochs=8,validation_split=0.2,verbose = 1)\n",
        "    train_acc = history.history['accuracy']\n",
        "    val_acc = history.history['val_accuracy']\n",
        "    results = model.evaluate(x=x_test,y=y_test,verbose=1)\n",
        "    test_acc = results[1]\n",
        "    loss = history.history['loss']\n",
        "    val_loss = history.history['val_loss']\n",
        "\n",
        "    Params = np.sum([np.prod(v.get_shape()) for v in model.trainable_weights])\n",
        "\n",
        "    print(\"Training Accuracy :- \",train_acc,\"  Validation Accuracy :- \",val_acc,\"  Test Accuracy :- \",test_acc)\n",
        "    print(\"No. of Parameters :- \",Params)\n",
        "\n",
        "    plt.figure(figsize=(8, 8))\n",
        "    plt.subplot(1, 2, 1)\n",
        "    plt.plot(range(8), train_acc, label='Training Accuracy')\n",
        "    plt.plot(range(8), val_acc, label='Validation Accuracy')\n",
        "    plt.legend(loc='lower right')\n",
        "    plt.title('Training and Validation Accuracy')\n",
        "\n",
        "    plt.subplot(1, 2, 2)\n",
        "    plt.plot(range(8), loss, label='Training Loss')\n",
        "    plt.plot(range(8), val_loss, label='Validation Loss')\n",
        "    plt.legend(loc='upper right')\n",
        "    plt.title('Training and Validation Loss')\n",
        "    plt.show()"
      ]
    },
    {
      "cell_type": "code",
      "execution_count": 22,
      "metadata": {},
      "outputs": [
        {
          "name": "stdout",
          "output_type": "stream",
          "text": [
            "52 gelu 8 gelu    relu\n",
            "Epoch 1/8\n",
            "1500/1500 [==============================] - 22s 13ms/step - loss: 0.9977 - accuracy: 0.6214 - val_loss: 0.7340 - val_accuracy: 0.7291\n",
            "Epoch 2/8\n",
            "1500/1500 [==============================] - 18s 12ms/step - loss: 0.6781 - accuracy: 0.7473 - val_loss: 0.6461 - val_accuracy: 0.7637\n",
            "Epoch 3/8\n",
            "1500/1500 [==============================] - 19s 13ms/step - loss: 0.6099 - accuracy: 0.7739 - val_loss: 0.5877 - val_accuracy: 0.7859\n",
            "Epoch 4/8\n",
            "1500/1500 [==============================] - 18s 12ms/step - loss: 0.5717 - accuracy: 0.7904 - val_loss: 0.6232 - val_accuracy: 0.7690\n",
            "Epoch 5/8\n",
            "1500/1500 [==============================] - 18s 12ms/step - loss: 0.5475 - accuracy: 0.7990 - val_loss: 0.5354 - val_accuracy: 0.8067\n",
            "Epoch 6/8\n",
            "1500/1500 [==============================] - 18s 12ms/step - loss: 0.5224 - accuracy: 0.8083 - val_loss: 0.5075 - val_accuracy: 0.8156\n",
            "Epoch 7/8\n",
            "1500/1500 [==============================] - 18s 12ms/step - loss: 0.5055 - accuracy: 0.8148 - val_loss: 0.5029 - val_accuracy: 0.8188\n",
            "Epoch 8/8\n",
            "1500/1500 [==============================] - 18s 12ms/step - loss: 0.4896 - accuracy: 0.8217 - val_loss: 0.5614 - val_accuracy: 0.7960\n",
            "313/313 [==============================] - 3s 9ms/step - loss: 0.5711 - accuracy: 0.7942\n",
            "Training Accuracy :-  [0.6213750243186951, 0.7472708225250244, 0.7739166617393494, 0.7903541922569275, 0.7990000247955322, 0.8083124756813049, 0.8148124814033508, 0.8216875195503235]   Validation Accuracy :-  [0.7290833592414856, 0.7636666893959045, 0.7859166860580444, 0.7689999938011169, 0.8067499995231628, 0.815583348274231, 0.8187500238418579, 0.7960000038146973]   Test Accuracy :-  0.7942000031471252\n",
            "No. of Parameters :-  6546\n"
          ]
        },
        {
          "data": {
            "image/png": "[encoded data removed]",
            "text/plain": [
              "<Figure size 576x576 with 2 Axes>"
            ]
          },
          "metadata": {
            "needs_background": "light"
          },
          "output_type": "display_data"
        }
      ],
      "source": [
        "best_RC_f,best_RC_acti,best_NC_f,best_NC_acti,best_FL_acti = Decode_Genome(best_genome)\n",
        "print(best_RC_f,best_RC_acti,best_NC_f,best_NC_acti,best_FL_acti)\n",
        "Inference(best_RC_f,best_RC_acti,best_NC_f,best_NC_acti,best_FL_acti)"
      ]
    }
  ],
  "metadata": {
    "accelerator": "GPU",
    "colab": {
      "name": "Genetic_Algo.ipynb",
      "provenance": []
    },
    "interpreter": {
      "hash": "1bb0b362f26668dab5e215d6d9db07ac82d94579e03c1f0d614a94e491cb2a73"
    },
    "kernelspec": {
      "display_name": "Python 3.9.7 64-bit",
      "language": "python",
      "name": "python3"
    },
    "language_info": {
      "codemirror_mode": {
        "name": "ipython",
        "version": 3
      },
      "file_extension": ".py",
      "mimetype": "text/x-python",
      "name": "python",
      "nbconvert_exporter": "python",
      "pygments_lexer": "ipython3",
      "version": "3.9.7"
    }
  },
  "nbformat": 4,
  "nbformat_minor": 0
}
