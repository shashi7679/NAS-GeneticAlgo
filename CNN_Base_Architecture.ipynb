{
  "nbformat": 4,
  "nbformat_minor": 0,
  "metadata": {
    "colab": {
      "name": "CNN_Base_Architecture.ipynb",
      "provenance": []
    },
    "kernelspec": {
      "name": "python3",
      "display_name": "Python 3"
    },
    "language_info": {
      "name": "python"
    }
  },
  "cells": [
    {
      "cell_type": "code",
      "metadata": {
        "id": "47s1ROHcfmgg"
      },
      "source": [
        "import tensorflow as tf\n",
        "import numpy as np\n",
        "import matplotlib.pyplot as plt\n",
        "from tensorflow.keras.datasets import fashion_mnist"
      ],
      "execution_count": 1,
      "outputs": []
    },
    {
      "cell_type": "code",
      "metadata": {
        "id": "gwYTuglRhLD_",
        "colab": {
          "base_uri": "https://localhost:8080/"
        },
        "outputId": "23751c24-e462-4589-9d21-2c2beba0b775"
      },
      "source": [
        "(x_train, y_train), (x_test, y_test) = fashion_mnist.load_data()"
      ],
      "execution_count": 2,
      "outputs": [
        {
          "output_type": "stream",
          "name": "stdout",
          "text": [
            "Downloading data from https://storage.googleapis.com/tensorflow/tf-keras-datasets/train-labels-idx1-ubyte.gz\n",
            "32768/29515 [=================================] - 0s 0us/step\n",
            "40960/29515 [=========================================] - 0s 0us/step\n",
            "Downloading data from https://storage.googleapis.com/tensorflow/tf-keras-datasets/train-images-idx3-ubyte.gz\n",
            "26427392/26421880 [==============================] - 0s 0us/step\n",
            "26435584/26421880 [==============================] - 0s 0us/step\n",
            "Downloading data from https://storage.googleapis.com/tensorflow/tf-keras-datasets/t10k-labels-idx1-ubyte.gz\n",
            "16384/5148 [===============================================================================================] - 0s 0us/step\n",
            "Downloading data from https://storage.googleapis.com/tensorflow/tf-keras-datasets/t10k-images-idx3-ubyte.gz\n",
            "4423680/4422102 [==============================] - 0s 0us/step\n",
            "4431872/4422102 [==============================] - 0s 0us/step\n"
          ]
        }
      ]
    },
    {
      "cell_type": "code",
      "metadata": {
        "colab": {
          "base_uri": "https://localhost:8080/"
        },
        "id": "x9a9vCqRhkbx",
        "outputId": "8ef05f44-5c92-4e07-f1b1-087d2342868e"
      },
      "source": [
        "print(\"Shape of x_train :- \",x_train.shape)\n",
        "print(\"No. of Samples in x_train :- \",len(x_train))"
      ],
      "execution_count": 3,
      "outputs": [
        {
          "output_type": "stream",
          "name": "stdout",
          "text": [
            "Shape of x_train :-  (60000, 28, 28)\n",
            "No. of Samples in x_train :-  60000\n"
          ]
        }
      ]
    },
    {
      "cell_type": "code",
      "metadata": {
        "id": "bvskchEPh2fy"
      },
      "source": [
        "x_train = tf.image.per_image_standardization(x_train)\n",
        "x_test = tf.image.per_image_standardization(x_test)"
      ],
      "execution_count": 4,
      "outputs": []
    },
    {
      "cell_type": "code",
      "metadata": {
        "id": "R5Fo2DfnieF4"
      },
      "source": [
        "class_names = ['T-shirt/top','Trouser','Pullover','Dress','Coat','Sandal','Shirt','Sneaker','Bag','Ankle boot']"
      ],
      "execution_count": 5,
      "outputs": []
    },
    {
      "cell_type": "code",
      "metadata": {
        "colab": {
          "base_uri": "https://localhost:8080/",
          "height": 298
        },
        "id": "JwQ4jfP_iPhQ",
        "outputId": "304738ec-f744-4201-9025-81ac2bcab3e6"
      },
      "source": [
        "plt.imshow(x_train[0])\n",
        "plt.title(class_names[y_train[0]])"
      ],
      "execution_count": 6,
      "outputs": [
        {
          "output_type": "execute_result",
          "data": {
            "text/plain": [
              "Text(0.5, 1.0, 'Ankle boot')"
            ]
          },
          "metadata": {},
          "execution_count": 6
        },
        {
          "output_type": "display_data",
          "data": {
            "image/png": "[encoded data removed]",
            "text/plain": [
              "<Figure size 432x288 with 1 Axes>"
            ]
          },
          "metadata": {
            "needs_background": "light"
          }
        }
      ]
    },
    {
      "cell_type": "code",
      "metadata": {
        "id": "gLJQR24UjeuS"
      },
      "source": [
        "IMAGE_SIZE = 28\n",
        "x_test = np.array(x_test).reshape(-1,IMAGE_SIZE,IMAGE_SIZE,1)\n",
        "x_train = np.array(x_train).reshape(-1,IMAGE_SIZE,IMAGE_SIZE,1)"
      ],
      "execution_count": 7,
      "outputs": []
    },
    {
      "cell_type": "code",
      "metadata": {
        "colab": {
          "base_uri": "https://localhost:8080/"
        },
        "id": "nrZESIYCka0_",
        "outputId": "18bf3927-dbb6-48fe-d1d6-440bbb9ba574"
      },
      "source": [
        "print(\"New Shape of x_train :- \",x_train.shape)"
      ],
      "execution_count": 8,
      "outputs": [
        {
          "output_type": "stream",
          "name": "stdout",
          "text": [
            "New Shape of x_train :-  (60000, 28, 28, 1)\n"
          ]
        }
      ]
    },
    {
      "cell_type": "code",
      "metadata": {
        "id": "m7Pw82ublIGo"
      },
      "source": [
        "from tensorflow.keras.layers import Dense,Conv2D,Activation,MaxPooling2D,Flatten,GlobalAveragePooling2D\n",
        "import tensorflow.keras.backend as K "
      ],
      "execution_count": 9,
      "outputs": []
    },
    {
      "cell_type": "code",
      "metadata": {
        "id": "FNSd3MzBkmRj"
      },
      "source": [
        "\n",
        "# model = tf.keras.Sequential()\n",
        "\n",
        "# model.add(Conv2D(16,(3,3),padding='same',input_shape=x_train.shape[1:]))  \n",
        "# model.add(Activation(\"relu\"))\n",
        "# model.add(MaxPooling2D(pool_size=(2,2)))\n",
        "\n",
        "# model.add(Conv2D(32,(3,3),strides=2,padding='valid'))\n",
        "# model.add(Activation(\"relu\"))\n",
        "# model.add(MaxPooling2D(pool_size=(2,2)))\n",
        "\n",
        "# model.add(Conv2D(32,(2,2),padding='same')) \n",
        "# model.add(Activation(\"relu\"))\n",
        "# model.add(MaxPooling2D(pool_size=(2,2)))\n",
        "\n",
        "# model.add(Conv2D(64,(2,2),strides=2,padding='valid'))\n",
        "# model.add(Activation(\"relu\"))\n",
        "\n",
        "# model.add(GlobalAveragePooling2D())\n",
        "# model.add(Dense(64))\n",
        "# model.add(Activation(\"relu\"))\n",
        "# model.add(Dense(10))\n",
        "# model.add(Activation(\"softmax\"))\n",
        "\n",
        "# model.summary()\n"
      ],
      "execution_count": 10,
      "outputs": []
    },
    {
      "cell_type": "code",
      "metadata": {
        "colab": {
          "base_uri": "https://localhost:8080/"
        },
        "id": "nhobzOSz2KLf",
        "outputId": "a5fa271d-372e-488d-9dd5-771839a6e094"
      },
      "source": [
        "model1 = tf.keras.Sequential()  #This model is working\n",
        "\n",
        "model1.add(Conv2D(4,kernel_size=(2,2) ,padding='valid',strides=2,input_shape=x_train.shape[1:])) #Reduction Layer\n",
        "model1.add(Activation('relu'))\n",
        "\n",
        "model1.add(Conv2D(8,(2,2),padding='same')) \n",
        "model1.add(Activation(\"relu\"))\n",
        "\n",
        "model1.add(Conv2D(4,kernel_size=(2,2) ,padding='valid',strides=2))  #Reduction Layer\n",
        "model1.add(Activation('relu'))\n",
        "\n",
        "model1.add(Conv2D(16,(2,2),padding='same')) \n",
        "model1.add(Activation(\"relu\"))\n",
        "\n",
        "model1.add(GlobalAveragePooling2D())\n",
        "model1.add(Dense(64))\n",
        "model1.add(Activation(\"relu\"))\n",
        "model1.add(Dense(10))\n",
        "model1.add(Activation(\"softmax\"))\n",
        "\n",
        "\n",
        "\n",
        "\n",
        "model1.summary()"
      ],
      "execution_count": 11,
      "outputs": [
        {
          "output_type": "stream",
          "name": "stdout",
          "text": [
            "Model: \"sequential\"\n",
            "_________________________________________________________________\n",
            "Layer (type)                 Output Shape              Param #   \n",
            "=================================================================\n",
            "conv2d (Conv2D)              (None, 14, 14, 4)         20        \n",
            "_________________________________________________________________\n",
            "activation (Activation)      (None, 14, 14, 4)         0         \n",
            "_________________________________________________________________\n",
            "conv2d_1 (Conv2D)            (None, 14, 14, 8)         136       \n",
            "_________________________________________________________________\n",
            "activation_1 (Activation)    (None, 14, 14, 8)         0         \n",
            "_________________________________________________________________\n",
            "conv2d_2 (Conv2D)            (None, 7, 7, 4)           132       \n",
            "_________________________________________________________________\n",
            "activation_2 (Activation)    (None, 7, 7, 4)           0         \n",
            "_________________________________________________________________\n",
            "conv2d_3 (Conv2D)            (None, 7, 7, 16)          272       \n",
            "_________________________________________________________________\n",
            "activation_3 (Activation)    (None, 7, 7, 16)          0         \n",
            "_________________________________________________________________\n",
            "global_average_pooling2d (Gl (None, 16)                0         \n",
            "_________________________________________________________________\n",
            "dense (Dense)                (None, 64)                1088      \n",
            "_________________________________________________________________\n",
            "activation_4 (Activation)    (None, 64)                0         \n",
            "_________________________________________________________________\n",
            "dense_1 (Dense)              (None, 10)                650       \n",
            "_________________________________________________________________\n",
            "activation_5 (Activation)    (None, 10)                0         \n",
            "=================================================================\n",
            "Total params: 2,298\n",
            "Trainable params: 2,298\n",
            "Non-trainable params: 0\n",
            "_________________________________________________________________\n"
          ]
        }
      ]
    },
    {
      "cell_type": "code",
      "metadata": {
        "id": "kKKApaQ_r-_G"
      },
      "source": [
        "# model.compile(loss=\"sparse_categorical_crossentropy\",optimizer=\"adam\",metrics=['accuracy'])"
      ],
      "execution_count": 12,
      "outputs": []
    },
    {
      "cell_type": "code",
      "metadata": {
        "id": "ldI6Iv6F8R_Y"
      },
      "source": [
        "model1.compile(loss=\"sparse_categorical_crossentropy\",optimizer=\"adam\",metrics=['accuracy'])"
      ],
      "execution_count": 13,
      "outputs": []
    },
    {
      "cell_type": "code",
      "metadata": {
        "id": "V85lpfEqsILG"
      },
      "source": [
        "# history = model.fit(x_train,y_train,epochs=10,validation_split=0.2)"
      ],
      "execution_count": 14,
      "outputs": []
    },
    {
      "cell_type": "code",
      "metadata": {
        "colab": {
          "base_uri": "https://localhost:8080/"
        },
        "id": "_j-kGoHt8VKk",
        "outputId": "3e00f053-ddf2-4cc1-b5d0-8ef3d02b01b2"
      },
      "source": [
        "history1 = model1.fit(x_train,y_train,epochs=10,validation_split=0.2)"
      ],
      "execution_count": 15,
      "outputs": [
        {
          "output_type": "stream",
          "name": "stdout",
          "text": [
            "Epoch 1/10\n",
            "1500/1500 [==============================] - 14s 9ms/step - loss: 1.2493 - accuracy: 0.5206 - val_loss: 0.9221 - val_accuracy: 0.6459\n",
            "Epoch 2/10\n",
            "1500/1500 [==============================] - 13s 9ms/step - loss: 0.8270 - accuracy: 0.6916 - val_loss: 0.7516 - val_accuracy: 0.7155\n",
            "Epoch 3/10\n",
            "1500/1500 [==============================] - 12s 8ms/step - loss: 0.7480 - accuracy: 0.7197 - val_loss: 0.7459 - val_accuracy: 0.7218\n",
            "Epoch 4/10\n",
            "1500/1500 [==============================] - 12s 8ms/step - loss: 0.7072 - accuracy: 0.7360 - val_loss: 0.7146 - val_accuracy: 0.7507\n",
            "Epoch 5/10\n",
            "1500/1500 [==============================] - 12s 8ms/step - loss: 0.6757 - accuracy: 0.7476 - val_loss: 0.6715 - val_accuracy: 0.7563\n",
            "Epoch 6/10\n",
            "1500/1500 [==============================] - 13s 8ms/step - loss: 0.6471 - accuracy: 0.7584 - val_loss: 0.6355 - val_accuracy: 0.7639\n",
            "Epoch 7/10\n",
            "1500/1500 [==============================] - 13s 8ms/step - loss: 0.6226 - accuracy: 0.7675 - val_loss: 0.6095 - val_accuracy: 0.7763\n",
            "Epoch 8/10\n",
            "1500/1500 [==============================] - 13s 8ms/step - loss: 0.6024 - accuracy: 0.7764 - val_loss: 0.5922 - val_accuracy: 0.7797\n",
            "Epoch 9/10\n",
            "1500/1500 [==============================] - 12s 8ms/step - loss: 0.5863 - accuracy: 0.7831 - val_loss: 0.5996 - val_accuracy: 0.7807\n",
            "Epoch 10/10\n",
            "1500/1500 [==============================] - 12s 8ms/step - loss: 0.5749 - accuracy: 0.7891 - val_loss: 0.5695 - val_accuracy: 0.7922\n"
          ]
        }
      ]
    },
    {
      "cell_type": "code",
      "metadata": {
        "id": "MRCyQlOXp0F7"
      },
      "source": [
        "results = model1.evaluate(x=x_test,y=y_test,verbose=0)"
      ],
      "execution_count": 25,
      "outputs": []
    },
    {
      "cell_type": "code",
      "metadata": {
        "colab": {
          "base_uri": "https://localhost:8080/"
        },
        "id": "3i_WEc-IqzRV",
        "outputId": "0351ad6b-aa9e-4c6a-e21a-e352b6ad0f83"
      },
      "source": [
        "results[1]"
      ],
      "execution_count": 24,
      "outputs": [
        {
          "output_type": "execute_result",
          "data": {
            "text/plain": [
              "0.7865999937057495"
            ]
          },
          "metadata": {},
          "execution_count": 24
        }
      ]
    },
    {
      "cell_type": "code",
      "metadata": {
        "colab": {
          "base_uri": "https://localhost:8080/",
          "height": 499
        },
        "id": "6lU6cUw69It3",
        "outputId": "983484a7-9aaf-4fed-9c27-9c7eb7e8c524"
      },
      "source": [
        "acc = history1.history['accuracy']\n",
        "val_acc = history1.history['val_accuracy']\n",
        "\n",
        "loss = history1.history['loss']\n",
        "val_loss = history1.history['val_loss']\n",
        "\n",
        "plt.figure(figsize=(8, 8))\n",
        "plt.subplot(1, 2, 1)\n",
        "plt.plot(range(10), acc, label='Training Accuracy')\n",
        "plt.plot(range(10), val_acc, label='Validation Accuracy')\n",
        "plt.legend(loc='lower right')\n",
        "plt.title('Training and Validation Accuracy')\n",
        "\n",
        "plt.subplot(1, 2, 2)\n",
        "plt.plot(range(10), loss, label='Training Loss')\n",
        "plt.plot(range(10), val_loss, label='Validation Loss')\n",
        "plt.legend(loc='upper right')\n",
        "plt.title('Training and Validation Loss')\n",
        "plt.show()"
      ],
      "execution_count": 16,
      "outputs": [
        {
          "output_type": "display_data",
          "data": {
            "image/png": "[encoded data removed]",
            "text/plain": [
              "<Figure size 576x576 with 2 Axes>"
            ]
          },
          "metadata": {
            "needs_background": "light"
          }
        }
      ]
    },
    {
      "cell_type": "code",
      "metadata": {
        "colab": {
          "base_uri": "https://localhost:8080/"
        },
        "id": "Qz0TLtYMtz8H",
        "outputId": "e0c72d9c-aef7-4d93-f1e2-6ffb0384a606"
      },
      "source": [
        "print(max(acc),\n",
        "max(val_acc))"
      ],
      "execution_count": 28,
      "outputs": [
        {
          "output_type": "stream",
          "name": "stdout",
          "text": [
            "0.7891250252723694 0.7922499775886536\n"
          ]
        }
      ]
    },
    {
      "cell_type": "code",
      "metadata": {
        "colab": {
          "base_uri": "https://localhost:8080/"
        },
        "id": "iKRU3dMwbv_k",
        "outputId": "5bcb70ae-c07e-4694-c4d3-95cb2bbefb7c"
      },
      "source": [
        "len(model1.trainable_variables)"
      ],
      "execution_count": 17,
      "outputs": [
        {
          "output_type": "execute_result",
          "data": {
            "text/plain": [
              "12"
            ]
          },
          "metadata": {},
          "execution_count": 17
        }
      ]
    },
    {
      "cell_type": "code",
      "metadata": {
        "colab": {
          "base_uri": "https://localhost:8080/"
        },
        "id": "_QWNm2OqcTjx",
        "outputId": "429f1cdb-d58d-4b88-9718-ac4a0b245305"
      },
      "source": [
        "trainableParams = np.sum([np.prod(v.get_shape()) for v in model1.trainable_weights])\n",
        "nonTrainableParams = np.sum([np.prod(v.get_shape()) for v in model1.non_trainable_weights])\n",
        "totalParams = trainableParams + nonTrainableParams\n",
        " \n",
        "print(trainableParams)\n",
        "print(nonTrainableParams)\n",
        "print(totalParams)"
      ],
      "execution_count": 18,
      "outputs": [
        {
          "output_type": "stream",
          "name": "stdout",
          "text": [
            "2298\n",
            "0.0\n",
            "2298.0\n"
          ]
        }
      ]
    }
  ]
}